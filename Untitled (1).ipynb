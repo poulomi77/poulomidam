{
 "cells": [
  {
   "cell_type": "code",
   "execution_count": 1,
   "id": "c298062c-f8a4-4f2c-a267-0ebdee15bf01",
   "metadata": {},
   "outputs": [
    {
     "name": "stdout",
     "output_type": "stream",
     "text": [
      "Bagpipes: Latex distribution not found, plots may look strange.\n"
     ]
    }
   ],
   "source": [
    "import numpy as np \n",
    "import bagpipes as pipes\n",
    "import matplotlib.pyplot as plt\n",
    "import matplotlib as mpl\n",
    "%matplotlib inline"
   ]
  },
  {
   "cell_type": "code",
   "execution_count": 2,
   "id": "5868da83-0116-4d25-946d-2110e648a109",
   "metadata": {},
   "outputs": [],
   "source": [
    "from bagpipes.plotting.plot_spectrum_posterior import add_photometry_posterior"
   ]
  },
  {
   "cell_type": "code",
   "execution_count": 3,
   "id": "7fe0e9f8-d28a-4019-a46b-1eaee25f429d",
   "metadata": {},
   "outputs": [],
   "source": [
    "%matplotlib notebook"
   ]
  },
  {
   "cell_type": "code",
   "execution_count": 4,
   "id": "ea001e89-d129-4662-ac6a-363d5a324d42",
   "metadata": {},
   "outputs": [],
   "source": [
    "# Define an exponentially declining star formation history\n",
    "exp = {\n",
    "    \"age\": 0.5,                  # Age in Gyr (single value, not a range)\n",
    "    \"tau\": 1.0,                  # SFH timescale in Gyr\n",
    "    \"massformed\": 10.0,          # Stellar mass log(M*/M_sun)\n",
    "    \"metallicity\": 0.2           # Z/Z_solar (low metallicity)\n",
    "}\n",
    "\n",
    "# Define dust attenuation using the Calzetti law\n",
    "dust = {\n",
    "    \"type\": \"Calzetti\",\n",
    "    \"Av\": 0.2                    # Dust attenuation in magnitudes\n",
    "}\n",
    "\n",
    "# Define nebular emission parameters\n",
    "nebular = {\n",
    "    \"logU\": -2.5                 # Ionization parameter\n",
    "}\n",
    "\n",
    "fit_instructions = {}                     # The fit instructions dictionary\n",
    "fit_instructions[\"redshift\"] = 4.55   # Vary observed redshift from 0 to 10\n",
    "fit_instructions[\"exponential\"] = exp   \n",
    "fit_instructions[\"dust\"] = dust\n",
    "\n",
    "# JWST filter list\n",
    "jwst_filt_list = [\n",
    "    \"filters/JWST_NIRCam.F115W.dat\", \n",
    "    \"filters/JWST_NIRCam.F150W.dat\", \n",
    "    \"filters/JWST_NIRCam.F277W.dat\", \n",
    "    \"filters/JWST_NIRCam.F444W.dat\"\n",
    "]\n"
   ]
  },
  {
   "cell_type": "code",
   "execution_count": 5,
   "id": "ca7b3c89-8550-468e-9a86-558c05676bfe",
   "metadata": {},
   "outputs": [],
   "source": [
    "def load_jwst(ID):\n",
    "  # load up the relevant columns from the catalogue.\n",
    "    cat = np.loadtxt(\"Bagpipes_flux_5100541407.txt\")\n",
    "    \n",
    "    # Find the correct row for the object we want.\n",
    "    row = np.where(cat[:,0]==int(ID))[0][0]\n",
    "\n",
    "    # Extract the object we want from the catalogue.\n",
    "    fluxes = cat[row, 1:5]\n",
    "    fluxerrs = cat[row, 5:9]\n",
    "    \n",
    "    \n",
    "    # Turn these into a 2D array.\n",
    "    photometry = np.c_[fluxes, fluxerrs]\n",
    "\n",
    "    # blow up the errors associated with any missing fluxes.\n",
    "    for i in range(len(photometry)):\n",
    "        if (photometry[i, 0] == 0.) or (photometry[i, 1] <= 0):\n",
    "            photometry[i,:] = [0., 9.9*10**99.]\n",
    "            \n",
    "    # Enforce a maximum SNR of 20, or 10 in the IRAC channels.\n",
    "    for i in range(len(photometry)):\n",
    "        if i < 10:\n",
    "            max_snr = 20\n",
    "            \n",
    "        else:\n",
    "            max_snr = 10\n",
    "        \n",
    "        if photometry[i, 0]/photometry[i, 1] > max_snr:\n",
    "            photometry[i, 1] = photometry[i, 0]/max_snr\n",
    "\n",
    "    return photometry"
   ]
  },
  {
   "cell_type": "code",
   "execution_count": 6,
   "id": "c66eb584-8f5e-48df-baa6-ce20475a2c52",
   "metadata": {},
   "outputs": [],
   "source": [
    "#Specify ID\n",
    "IDs=np.loadtxt(\"Bagpipes_flux_5100541407.txt\", usecols=(0), dtype='float').astype(int)"
   ]
  },
  {
   "cell_type": "code",
   "execution_count": 7,
   "id": "9003de0f-2f6c-4186-b0cc-9867691c47db",
   "metadata": {},
   "outputs": [
    {
     "name": "stdout",
     "output_type": "stream",
     "text": [
      "[[8.21293987e-04 1.84019463e-04]\n",
      " [9.98556295e-04 1.23476403e-04]\n",
      " [1.25895574e-03 9.79751109e-05]\n",
      " [1.46083358e-03 2.59979271e-04]]\n"
     ]
    }
   ],
   "source": [
    "print(load_jwst(\"1\"))"
   ]
  },
  {
   "cell_type": "code",
   "execution_count": 8,
   "id": "7534ebf0-9708-4a34-89d4-3eda776bc626",
   "metadata": {},
   "outputs": [],
   "source": [
    "Av=[]\n",
    "SM=[]\n",
    "sfr=[]\n",
    "chisq_phot=[]\n",
    "exponential_age=[]"
   ]
  },
  {
   "cell_type": "code",
   "execution_count": 9,
   "id": "d089d2d3-4faa-4ae3-9f93-0a509fc3e63f",
   "metadata": {},
   "outputs": [
    {
     "name": "stdout",
     "output_type": "stream",
     "text": [
      "\n",
      "Bagpipes: fitting object 1\n",
      "\n",
      " MultiNest Warning: no resume file found, starting from scratch\n",
      " *****************************************************\n",
      " MultiNest v3.10\n",
      " Copyright Farhan Feroz & Mike Hobson\n",
      " Release Jul 2015\n",
      "\n",
      " no. of live points =  400\n",
      " dimensionality =    0\n",
      " *****************************************************\n",
      "\n",
      "Completed in 0.4 seconds.\n",
      "\n",
      " ln(ev)=  -36979835.112690635      +/-   8.0729763992724891E-003\n",
      " Total Likelihood Evaluations:          400\n",
      " Sampling finished. Exiting MultiNest\n"
     ]
    },
    {
     "ename": "IndexError",
     "evalue": "too many indices for array: array is 1-dimensional, but 2 were indexed",
     "output_type": "error",
     "traceback": [
      "\u001b[0;31m---------------------------------------------------------------------------\u001b[0m",
      "\u001b[0;31mIndexError\u001b[0m                                Traceback (most recent call last)",
      "Cell \u001b[0;32mIn[9], line 4\u001b[0m\n\u001b[1;32m      2\u001b[0m galaxy \u001b[38;5;241m=\u001b[39m pipes\u001b[38;5;241m.\u001b[39mgalaxy(i, load_jwst, spectrum_exists\u001b[38;5;241m=\u001b[39m\u001b[38;5;28;01mFalse\u001b[39;00m, filt_list\u001b[38;5;241m=\u001b[39mjwst_filt_list)\n\u001b[1;32m      3\u001b[0m fit\u001b[38;5;241m=\u001b[39mpipes\u001b[38;5;241m.\u001b[39mfit(galaxy,fit_instructions, run\u001b[38;5;241m=\u001b[39m\u001b[38;5;124m'\u001b[39m\u001b[38;5;124mtest7\u001b[39m\u001b[38;5;124m'\u001b[39m)\n\u001b[0;32m----> 4\u001b[0m \u001b[43mfit\u001b[49m\u001b[38;5;241;43m.\u001b[39;49m\u001b[43mfit\u001b[49m\u001b[43m(\u001b[49m\u001b[43mverbose\u001b[49m\u001b[38;5;241;43m=\u001b[39;49m\u001b[38;5;28;43;01mFalse\u001b[39;49;00m\u001b[43m)\u001b[49m\n\u001b[1;32m      6\u001b[0m fit\u001b[38;5;241m.\u001b[39mposterior\u001b[38;5;241m.\u001b[39mget_advanced_quantities() \u001b[38;5;66;03m## get posteriors\u001b[39;00m\n\u001b[1;32m      8\u001b[0m \u001b[38;5;28;01mif\u001b[39;00m fit\u001b[38;5;241m.\u001b[39mgalaxy\u001b[38;5;241m.\u001b[39mout_units \u001b[38;5;241m==\u001b[39m \u001b[38;5;124m\"\u001b[39m\u001b[38;5;124mergscma\u001b[39m\u001b[38;5;124m\"\u001b[39m: \u001b[38;5;66;03m## convert from erg/s/cm2/A to microJy\u001b[39;00m\n",
      "File \u001b[0;32m~/bagpipes_env/lib/python3.12/site-packages/bagpipes/fitting/fit.py:219\u001b[0m, in \u001b[0;36mfit.fit\u001b[0;34m(self, verbose, n_live, use_MPI, sampler, n_eff, discard_exploration, n_networks, pool)\u001b[0m\n\u001b[1;32m    217\u001b[0m samples2d \u001b[38;5;241m=\u001b[39m np\u001b[38;5;241m.\u001b[39mloadtxt(\u001b[38;5;28mself\u001b[39m\u001b[38;5;241m.\u001b[39mfname \u001b[38;5;241m+\u001b[39m \u001b[38;5;124m\"\u001b[39m\u001b[38;5;124mpost_equal_weights.dat\u001b[39m\u001b[38;5;124m\"\u001b[39m)\n\u001b[1;32m    218\u001b[0m lnz_line \u001b[38;5;241m=\u001b[39m \u001b[38;5;28mopen\u001b[39m(\u001b[38;5;28mself\u001b[39m\u001b[38;5;241m.\u001b[39mfname \u001b[38;5;241m+\u001b[39m \u001b[38;5;124m\"\u001b[39m\u001b[38;5;124mstats.dat\u001b[39m\u001b[38;5;124m\"\u001b[39m)\u001b[38;5;241m.\u001b[39mreadline()\u001b[38;5;241m.\u001b[39msplit()\n\u001b[0;32m--> 219\u001b[0m \u001b[38;5;28mself\u001b[39m\u001b[38;5;241m.\u001b[39mresults[\u001b[38;5;124m\"\u001b[39m\u001b[38;5;124msamples2d\u001b[39m\u001b[38;5;124m\"\u001b[39m] \u001b[38;5;241m=\u001b[39m \u001b[43msamples2d\u001b[49m\u001b[43m[\u001b[49m\u001b[43m:\u001b[49m\u001b[43m,\u001b[49m\u001b[43m \u001b[49m\u001b[43m:\u001b[49m\u001b[38;5;241;43m-\u001b[39;49m\u001b[38;5;241;43m1\u001b[39;49m\u001b[43m]\u001b[49m\n\u001b[1;32m    220\u001b[0m \u001b[38;5;28mself\u001b[39m\u001b[38;5;241m.\u001b[39mresults[\u001b[38;5;124m\"\u001b[39m\u001b[38;5;124mlnlike\u001b[39m\u001b[38;5;124m\"\u001b[39m] \u001b[38;5;241m=\u001b[39m samples2d[:, \u001b[38;5;241m-\u001b[39m\u001b[38;5;241m1\u001b[39m]\n\u001b[1;32m    221\u001b[0m \u001b[38;5;28mself\u001b[39m\u001b[38;5;241m.\u001b[39mresults[\u001b[38;5;124m\"\u001b[39m\u001b[38;5;124mlnz\u001b[39m\u001b[38;5;124m\"\u001b[39m] \u001b[38;5;241m=\u001b[39m \u001b[38;5;28mfloat\u001b[39m(lnz_line[\u001b[38;5;241m-\u001b[39m\u001b[38;5;241m3\u001b[39m])\n",
      "\u001b[0;31mIndexError\u001b[0m: too many indices for array: array is 1-dimensional, but 2 were indexed"
     ]
    }
   ],
   "source": [
    "for i in IDs:\n",
    "    galaxy = pipes.galaxy(i, load_jwst, spectrum_exists=False, filt_list=jwst_filt_list)\n",
    "    fit=pipes.fit(galaxy,fit_instructions, run='test7')\n",
    "    fit.fit(verbose=False)\n",
    "\n",
    "    fit.posterior.get_advanced_quantities() ## get posteriors\n",
    "\n",
    "    if fit.galaxy.out_units == \"ergscma\": ## convert from erg/s/cm2/A to microJy\n",
    "        conversion = 10**-29*2.9979*10**18/fit.galaxy.photometry[:, 0]**2\n",
    "        fit.galaxy.photometry[:, 1] /= conversion\n",
    "        fit.galaxy.photometry[:, 2] /= conversion\n",
    "\n",
    "    fig = plt.figure(figsize=(12, 7))\n",
    "    ax1 = plt.subplot()\n",
    "    \n",
    "    ## defining the posteriors of 16th and 84th percentile\n",
    "    spec_post= np.percentile(fit.posterior.samples[\"spectrum_full\"],(16, 84), axis=0).T\n",
    "    spec_post = spec_post.astype(float) \n",
    "    \n",
    "    ## finding the best fit index having least chi square\n",
    "    ibest=np.argmin(fit.posterior.samples['chisq_phot'])  \n",
    "    \n",
    "    ## plot photometric points\n",
    "    ax1.errorbar(fit.galaxy.photometry[:,0]*1e-4,fit.galaxy.photometry[:,1],fit.galaxy.photometry[:,2],marker='o',ls='None',color='green')\n",
    "    \n",
    "    ## plot the template\n",
    "    conversion = 10**-29*2.9979*10**18/(fit.posterior.model_galaxy.wavelengths*(1+fit_instructions[\"redshift\"]))**2 ##using fixed 4.4340 redshift for all pixels\n",
    "    ax1.plot(fit.posterior.model_galaxy.wavelengths*(1+fit_instructions[\"redshift\"])*1e-4,fit.posterior.samples['spectrum_full'][ibest]/conversion, color='blue') #label=r'z$_{k}$=' + str(np.round(fit.posterior.samples['redshift'][ibest],2)),color='k')\n",
    "    \n",
    "    \n",
    "    ## plotting\n",
    "    ax1.plot(fit.posterior.model_galaxy.wavelengths*(1+fit_instructions[\"redshift\"])*1e-4, spec_post[:, 0]/conversion, color='orange', alpha=0.5)\n",
    "\n",
    "    ax1.plot(fit.posterior.model_galaxy.wavelengths*(1+fit_instructions[\"redshift\"])*1e-4, spec_post[:, 1]/conversion, color='orange', alpha=0.5)\n",
    "\n",
    "    ax1.fill_between(fit.posterior.model_galaxy.wavelengths*(1+fit_instructions[\"redshift\"])*1e-4, spec_post[:, 0]/conversion, spec_post[:, 1]/conversion, color='orange', linewidth=0, alpha=0.5)\n",
    "\n",
    "    #ax1.legend(loc=4)\n",
    "\n",
    "    ax1.set_ylim(1e-4, 1e-2)\n",
    "    #ax1.set_xlim(10\n",
    "    ax1.set_xlim(0.5,21)\n",
    "    ax1.set_yscale('log')\n",
    "    ax1.set_xscale('log')\n",
    "    ax1.set_xlabel(r'$\\lambda\\,[\\mu m]$',fontsize=20)\n",
    "    ax1.set_ylabel(r'$f_{\\nu}\\,[\\mu Jy]$',fontsize=20)\n",
    "    ax1.set_title(f'Object {i}',fontsize=20)\n",
    "    ax1.minorticks_on()\n",
    "    \n",
    "#     axins1 = inset_axes(ax1, width=\"30%\", height=\"30%\", loc=8, borderpad=1.5)\n",
    "#     axins1.hist(fit.posterior.samples['redshift'],histtype='step',bins=50,color='k',density=True)\n",
    "#     axins1.set_xlabel('z',labelpad=-15)\n",
    "#     axins1.tick_params(labelleft=False)\n",
    "#     axins1.minorticks_on()\n",
    "\n",
    "    plt.savefig(f'bagpipes_plots/Object{i}.png')\n",
    "    \n",
    "    Av.append(np.median(fit.posterior.samples[\"dust:Av\"]))\n",
    "    SM.append(np.median(fit.posterior.samples[\"stellar_mass\"]))\n",
    "    sfr.append(np.median(fit.posterior.samples[\"sfr\"]))\n",
    "    chisq_phot.append(np.median(fit.posterior.samples[\"chisq_phot\"]))\n",
    "    exponential_age.append(np.median(fit.posterior.samples[\"exponential:age\"]))\n"
   ]
  },
  {
   "cell_type": "code",
   "execution_count": null,
   "id": "fab519c0-edab-4867-852e-899448b3dcba",
   "metadata": {},
   "outputs": [],
   "source": []
  }
 ],
 "metadata": {
  "kernelspec": {
   "display_name": "Python 3 (ipykernel)",
   "language": "python",
   "name": "python3"
  },
  "language_info": {
   "codemirror_mode": {
    "name": "ipython",
    "version": 3
   },
   "file_extension": ".py",
   "mimetype": "text/x-python",
   "name": "python",
   "nbconvert_exporter": "python",
   "pygments_lexer": "ipython3",
   "version": "3.12.3"
  }
 },
 "nbformat": 4,
 "nbformat_minor": 5
}
